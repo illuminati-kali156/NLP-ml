{
  "cells": [
    {
      "cell_type": "code",
      "execution_count": null,
      "id": "ba78ac60",
      "metadata": {
        "id": "ba78ac60",
        "outputId": "bbf0ee80-86d3-4f11-b1e9-a247a8e7738c"
      },
      "outputs": [
        {
          "name": "stdout",
          "output_type": "stream",
          "text": [
            "Requirement already satisfied: advertools in c:\\users\\csds-08\\appdata\\local\\programs\\python\\python310\\lib\\site-packages (0.13.1)\n",
            "Requirement already satisfied: pyasn1 in c:\\users\\csds-08\\appdata\\local\\programs\\python\\python310\\lib\\site-packages (from advertools) (0.4.8)\n",
            "Requirement already satisfied: twython in c:\\users\\csds-08\\appdata\\local\\programs\\python\\python310\\lib\\site-packages (from advertools) (3.9.1)\n",
            "Requirement already satisfied: scrapy in c:\\users\\csds-08\\appdata\\local\\programs\\python\\python310\\lib\\site-packages (from advertools) (2.6.2)\n",
            "Requirement already satisfied: pyarrow in c:\\users\\csds-08\\appdata\\local\\programs\\python\\python310\\lib\\site-packages (from advertools) (9.0.0)\n",
            "Requirement already satisfied: pandas in c:\\users\\csds-08\\appdata\\local\\programs\\python\\python310\\lib\\site-packages (from advertools) (1.4.3)\n",
            "Requirement already satisfied: pytz>=2020.1 in c:\\users\\csds-08\\appdata\\local\\programs\\python\\python310\\lib\\site-packages (from pandas->advertools) (2022.2.1)\n",
            "Requirement already satisfied: python-dateutil>=2.8.1 in c:\\users\\csds-08\\appdata\\local\\programs\\python\\python310\\lib\\site-packages (from pandas->advertools) (2.8.2)\n",
            "Requirement already satisfied: numpy>=1.21.0 in c:\\users\\csds-08\\appdata\\local\\programs\\python\\python310\\lib\\site-packages (from pandas->advertools) (1.23.2)\n",
            "Requirement already satisfied: service-identity>=16.0.0 in c:\\users\\csds-08\\appdata\\local\\programs\\python\\python310\\lib\\site-packages (from scrapy->advertools) (21.1.0)\n",
            "Requirement already satisfied: tldextract in c:\\users\\csds-08\\appdata\\local\\programs\\python\\python310\\lib\\site-packages (from scrapy->advertools) (3.3.1)\n",
            "Requirement already satisfied: Twisted>=17.9.0 in c:\\users\\csds-08\\appdata\\local\\programs\\python\\python310\\lib\\site-packages (from scrapy->advertools) (22.4.0)\n",
            "Requirement already satisfied: cryptography>=2.0 in c:\\users\\csds-08\\appdata\\local\\programs\\python\\python310\\lib\\site-packages (from scrapy->advertools) (37.0.4)\n",
            "Requirement already satisfied: lxml>=3.5.0 in c:\\users\\csds-08\\appdata\\local\\programs\\python\\python310\\lib\\site-packages (from scrapy->advertools) (4.9.1)\n",
            "Requirement already satisfied: itemloaders>=1.0.1 in c:\\users\\csds-08\\appdata\\local\\programs\\python\\python310\\lib\\site-packages (from scrapy->advertools) (1.0.4)\n",
            "Requirement already satisfied: w3lib>=1.17.0 in c:\\users\\csds-08\\appdata\\local\\programs\\python\\python310\\lib\\site-packages (from scrapy->advertools) (2.0.1)\n",
            "Requirement already satisfied: protego>=0.1.15 in c:\\users\\csds-08\\appdata\\local\\programs\\python\\python310\\lib\\site-packages (from scrapy->advertools) (0.2.1)\n",
            "Requirement already satisfied: cssselect>=0.9.1 in c:\\users\\csds-08\\appdata\\local\\programs\\python\\python310\\lib\\site-packages (from scrapy->advertools) (1.1.0)\n",
            "Requirement already satisfied: pyOpenSSL>=16.2.0 in c:\\users\\csds-08\\appdata\\local\\programs\\python\\python310\\lib\\site-packages (from scrapy->advertools) (22.0.0)\n",
            "Requirement already satisfied: PyDispatcher>=2.0.5 in c:\\users\\csds-08\\appdata\\local\\programs\\python\\python310\\lib\\site-packages (from scrapy->advertools) (2.0.5)\n",
            "Requirement already satisfied: setuptools in c:\\users\\csds-08\\appdata\\local\\programs\\python\\python310\\lib\\site-packages (from scrapy->advertools) (63.2.0)\n",
            "Requirement already satisfied: queuelib>=1.4.2 in c:\\users\\csds-08\\appdata\\local\\programs\\python\\python310\\lib\\site-packages (from scrapy->advertools) (1.6.2)\n",
            "Requirement already satisfied: itemadapter>=0.1.0 in c:\\users\\csds-08\\appdata\\local\\programs\\python\\python310\\lib\\site-packages (from scrapy->advertools) (0.7.0)\n",
            "Requirement already satisfied: zope.interface>=4.1.3 in c:\\users\\csds-08\\appdata\\local\\programs\\python\\python310\\lib\\site-packages (from scrapy->advertools) (5.4.0)\n",
            "Requirement already satisfied: parsel>=1.5.0 in c:\\users\\csds-08\\appdata\\local\\programs\\python\\python310\\lib\\site-packages (from scrapy->advertools) (1.6.0)\n",
            "Requirement already satisfied: requests>=2.1.0 in c:\\users\\csds-08\\appdata\\local\\programs\\python\\python310\\lib\\site-packages (from twython->advertools) (2.28.1)\n",
            "Requirement already satisfied: requests-oauthlib>=0.4.0 in c:\\users\\csds-08\\appdata\\local\\programs\\python\\python310\\lib\\site-packages (from twython->advertools) (1.3.1)\n",
            "Requirement already satisfied: cffi>=1.12 in c:\\users\\csds-08\\appdata\\local\\programs\\python\\python310\\lib\\site-packages (from cryptography>=2.0->scrapy->advertools) (1.15.1)\n",
            "Requirement already satisfied: jmespath>=0.9.5 in c:\\users\\csds-08\\appdata\\local\\programs\\python\\python310\\lib\\site-packages (from itemloaders>=1.0.1->scrapy->advertools) (1.0.1)\n",
            "Requirement already satisfied: six>=1.6.0 in c:\\users\\csds-08\\appdata\\local\\programs\\python\\python310\\lib\\site-packages (from parsel>=1.5.0->scrapy->advertools) (1.16.0)\n",
            "Requirement already satisfied: idna<4,>=2.5 in c:\\users\\csds-08\\appdata\\local\\programs\\python\\python310\\lib\\site-packages (from requests>=2.1.0->twython->advertools) (3.3)\n",
            "Requirement already satisfied: charset-normalizer<3,>=2 in c:\\users\\csds-08\\appdata\\local\\programs\\python\\python310\\lib\\site-packages (from requests>=2.1.0->twython->advertools) (2.1.0)\n",
            "Requirement already satisfied: certifi>=2017.4.17 in c:\\users\\csds-08\\appdata\\local\\programs\\python\\python310\\lib\\site-packages (from requests>=2.1.0->twython->advertools) (2022.6.15)\n",
            "Requirement already satisfied: urllib3<1.27,>=1.21.1 in c:\\users\\csds-08\\appdata\\local\\programs\\python\\python310\\lib\\site-packages (from requests>=2.1.0->twython->advertools) (1.26.11)\n",
            "Requirement already satisfied: oauthlib>=3.0.0 in c:\\users\\csds-08\\appdata\\local\\programs\\python\\python310\\lib\\site-packages (from requests-oauthlib>=0.4.0->twython->advertools) (3.2.0)\n",
            "Requirement already satisfied: pyasn1-modules in c:\\users\\csds-08\\appdata\\local\\programs\\python\\python310\\lib\\site-packages (from service-identity>=16.0.0->scrapy->advertools) (0.2.8)\n",
            "Requirement already satisfied: attrs>=19.1.0 in c:\\users\\csds-08\\appdata\\local\\programs\\python\\python310\\lib\\site-packages (from service-identity>=16.0.0->scrapy->advertools) (22.1.0)\n",
            "Requirement already satisfied: constantly>=15.1 in c:\\users\\csds-08\\appdata\\local\\programs\\python\\python310\\lib\\site-packages (from Twisted>=17.9.0->scrapy->advertools) (15.1.0)\n",
            "Requirement already satisfied: Automat>=0.8.0 in c:\\users\\csds-08\\appdata\\local\\programs\\python\\python310\\lib\\site-packages (from Twisted>=17.9.0->scrapy->advertools) (20.2.0)\n",
            "Requirement already satisfied: incremental>=21.3.0 in c:\\users\\csds-08\\appdata\\local\\programs\\python\\python310\\lib\\site-packages (from Twisted>=17.9.0->scrapy->advertools) (21.3.0)\n",
            "Requirement already satisfied: twisted-iocpsupport<2,>=1.0.2 in c:\\users\\csds-08\\appdata\\local\\programs\\python\\python310\\lib\\site-packages (from Twisted>=17.9.0->scrapy->advertools) (1.0.2)\n",
            "Requirement already satisfied: typing-extensions>=3.6.5 in c:\\users\\csds-08\\appdata\\local\\programs\\python\\python310\\lib\\site-packages (from Twisted>=17.9.0->scrapy->advertools) (4.3.0)\n",
            "Requirement already satisfied: hyperlink>=17.1.1 in c:\\users\\csds-08\\appdata\\local\\programs\\python\\python310\\lib\\site-packages (from Twisted>=17.9.0->scrapy->advertools) (21.0.0)\n",
            "Requirement already satisfied: filelock>=3.0.8 in c:\\users\\csds-08\\appdata\\local\\programs\\python\\python310\\lib\\site-packages (from tldextract->scrapy->advertools) (3.8.0)\n",
            "Requirement already satisfied: requests-file>=1.4 in c:\\users\\csds-08\\appdata\\local\\programs\\python\\python310\\lib\\site-packages (from tldextract->scrapy->advertools) (1.5.1)\n",
            "Requirement already satisfied: pycparser in c:\\users\\csds-08\\appdata\\local\\programs\\python\\python310\\lib\\site-packages (from cffi>=1.12->cryptography>=2.0->scrapy->advertools) (2.21)\n"
          ]
        }
      ],
      "source": [
        "!pip install advertools"
      ]
    },
    {
      "cell_type": "code",
      "execution_count": null,
      "id": "4c52e86c",
      "metadata": {
        "id": "4c52e86c"
      },
      "outputs": [],
      "source": [
        "import advertools as adv\n",
        "from nltk.corpus import stopwords\n",
        "from nltk.tokenize import word_tokenize"
      ]
    },
    {
      "cell_type": "code",
      "execution_count": null,
      "id": "b594222c",
      "metadata": {
        "id": "b594222c"
      },
      "outputs": [],
      "source": [
        "example_sent = \"\"\"प्राचीन काल में विक्रमादित्य नाम के एक आदर्श राजा हुआ करते थे।\n",
        "अपने साहस, पराक्रम और शौर्य के लिए  राजा विक्रम मशहूर थे। \n",
        "ऐसा भी कहा जाता है कि राजा विक्रम अपनी प्राजा के जीवन के दुख दर्द जानने के लिए रात्री के पहर में भेष बदल कर नगर में घूमते थे।\"\"\""
      ]
    },
    {
      "cell_type": "code",
      "execution_count": null,
      "id": "eccad548",
      "metadata": {
        "id": "eccad548"
      },
      "outputs": [],
      "source": [
        "stop_words = adv.stopwords['hindi']"
      ]
    },
    {
      "cell_type": "code",
      "execution_count": null,
      "id": "defa5209",
      "metadata": {
        "id": "defa5209"
      },
      "outputs": [],
      "source": [
        "words = word_tokenize(example_sent)"
      ]
    },
    {
      "cell_type": "code",
      "execution_count": null,
      "id": "4401e90f",
      "metadata": {
        "id": "4401e90f",
        "outputId": "5568e097-4cb3-4311-ec65-1b613af012ca"
      },
      "outputs": [
        {
          "name": "stdout",
          "output_type": "stream",
          "text": [
            "['प्राचीन', 'काल', 'में', 'विक्रमादित्य', 'नाम', 'के', 'एक', 'आदर्श', 'राजा', 'हुआ', 'करते', 'थे।', 'अपने', 'साहस', ',', 'पराक्रम', 'और', 'शौर्य', 'के', 'लिए', 'राजा', 'विक्रम', 'मशहूर', 'थे।', 'ऐसा', 'भी', 'कहा', 'जाता', 'है', 'कि', 'राजा', 'विक्रम', 'अपनी', 'प्राजा', 'के', 'जीवन', 'के', 'दुख', 'दर्द', 'जानने', 'के', 'लिए', 'रात्री', 'के', 'पहर', 'में', 'भेष', 'बदल', 'कर', 'नगर', 'में', 'घूमते', 'थे।']\n"
          ]
        }
      ],
      "source": [
        "print(words)"
      ]
    },
    {
      "cell_type": "code",
      "execution_count": null,
      "id": "86004924",
      "metadata": {
        "id": "86004924"
      },
      "outputs": [],
      "source": [
        "filtered_sentence = [w for w in words if not w.lower() in stop_words]"
      ]
    },
    {
      "cell_type": "code",
      "execution_count": null,
      "id": "1cfdd008",
      "metadata": {
        "id": "1cfdd008",
        "outputId": "c97ffa01-b2ec-47fd-98a0-43acc76d1dbd"
      },
      "outputs": [
        {
          "name": "stdout",
          "output_type": "stream",
          "text": [
            "['प्राचीन', 'काल', 'विक्रमादित्य', 'नाम', 'आदर्श', 'राजा', 'थे।', 'साहस', ',', 'पराक्रम', 'शौर्य', 'राजा', 'विक्रम', 'मशहूर', 'थे।', 'ऐसा', 'जाता', 'राजा', 'विक्रम', 'प्राजा', 'जीवन', 'दुख', 'दर्द', 'जानने', 'रात्री', 'पहर', 'भेष', 'बदल', 'नगर', 'घूमते', 'थे।']\n"
          ]
        }
      ],
      "source": [
        "print(filtered_sentence)"
      ]
    },
    {
      "cell_type": "code",
      "execution_count": null,
      "id": "8fe43630",
      "metadata": {
        "id": "8fe43630"
      },
      "outputs": [],
      "source": []
    }
  ],
  "metadata": {
    "kernelspec": {
      "display_name": "Python 3 (ipykernel)",
      "language": "python",
      "name": "python3"
    },
    "language_info": {
      "codemirror_mode": {
        "name": "ipython",
        "version": 3
      },
      "file_extension": ".py",
      "mimetype": "text/x-python",
      "name": "python",
      "nbconvert_exporter": "python",
      "pygments_lexer": "ipython3",
      "version": "3.10.6"
    },
    "colab": {
      "provenance": []
    }
  },
  "nbformat": 4,
  "nbformat_minor": 5
}