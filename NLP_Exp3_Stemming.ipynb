{
  "nbformat": 4,
  "nbformat_minor": 0,
  "metadata": {
    "colab": {
      "provenance": [],
      "collapsed_sections": []
    },
    "kernelspec": {
      "name": "python3",
      "display_name": "Python 3"
    },
    "language_info": {
      "name": "python"
    }
  },
  "cells": [
    {
      "cell_type": "markdown",
      "source": [
        "**For English Language**"
      ],
      "metadata": {
        "id": "cbsO2gUxpoBb"
      }
    },
    {
      "cell_type": "code",
      "execution_count": null,
      "metadata": {
        "id": "a9yKcqzDlf1T"
      },
      "outputs": [],
      "source": [
        "from nltk.stem import PorterStemmer\n",
        "from nltk.tokenize import word_tokenize"
      ]
    },
    {
      "cell_type": "code",
      "source": [
        "import nltk\n",
        "nltk.download('punkt')"
      ],
      "metadata": {
        "colab": {
          "base_uri": "https://localhost:8080/"
        },
        "id": "Ct5ACn5fmOqK",
        "outputId": "adf5432b-f3c3-4352-8623-46a59b25a90c"
      },
      "execution_count": null,
      "outputs": [
        {
          "output_type": "stream",
          "name": "stderr",
          "text": [
            "[nltk_data] Downloading package punkt to /root/nltk_data...\n",
            "[nltk_data]   Unzipping tokenizers/punkt.zip.\n"
          ]
        },
        {
          "output_type": "execute_result",
          "data": {
            "text/plain": [
              "True"
            ]
          },
          "metadata": {},
          "execution_count": 6
        }
      ]
    },
    {
      "cell_type": "code",
      "source": [
        "ps=PorterStemmer()"
      ],
      "metadata": {
        "id": "G2H3AQd_mDKK"
      },
      "execution_count": null,
      "outputs": []
    },
    {
      "cell_type": "code",
      "source": [
        "sentence = \"Programmers program with programming languages\"\n",
        "words = word_tokenize(sentence)"
      ],
      "metadata": {
        "id": "sdbyDEzNmJgq"
      },
      "execution_count": null,
      "outputs": []
    },
    {
      "cell_type": "code",
      "source": [
        "for w in words:\n",
        "    print(w, \" : \", ps.stem(w))"
      ],
      "metadata": {
        "colab": {
          "base_uri": "https://localhost:8080/"
        },
        "id": "CpKcKVjZmiQF",
        "outputId": "d77c9e31-b534-465a-ca7e-6482f845a29c"
      },
      "execution_count": null,
      "outputs": [
        {
          "output_type": "stream",
          "name": "stdout",
          "text": [
            "Programmers  :  programm\n",
            "program  :  program\n",
            "with  :  with\n",
            "programming  :  program\n",
            "languages  :  languag\n"
          ]
        }
      ]
    },
    {
      "cell_type": "markdown",
      "source": [
        "# **For Indian Language**"
      ],
      "metadata": {
        "id": "FdIKVPK0mpj8"
      }
    },
    {
      "cell_type": "code",
      "source": [
        "#suffix stripping algorithm for implementing a stemmer in Hindi language inspired from Porter Stemmer\n",
        "\n",
        "#installing dependencies\n",
        "import codecs\n",
        "import re\n",
        "\n",
        "#read the input file\n",
        "filepath = 'hindi2.txt'\n",
        "f = codecs.open(filepath, encoding = 'utf-8')\n",
        "text = f.read()\n",
        "\n",
        "\n",
        "sentences=text.split(u\"।\") #since hindi sentences end with '|'\n",
        "words_list = list()\n",
        "for sentence in sentences:\n",
        "    words = sentence.split(' ') #words are seperated by a space in hindi\n",
        "    words_list += words\n",
        "\n",
        "suffixes = {\n",
        "    1: [u\"ो\",u\"े\",u\"ू\",u\"ु\",u\"ी\",u\"ि\",u\"ा\"],\n",
        "    2: [u\"कर\",u\"ाओ\",u\"िए\",u\"ाई\",u\"ाए\",u\"ने\",u\"नी\",u\"ना\",u\"ते\",u\"ीं\",u\"ती\",u\"ता\",u\"ाँ\",u\"ां\",u\"ों\",u\"ें\"],\n",
        "    3: [u\"ाकर\",u\"ाइए\",u\"ाईं\",u\"ाया\",u\"ेगी\",u\"ेगा\",u\"ोगी\",u\"ोगे\",u\"ाने\",u\"ाना\",u\"ाते\",u\"ाती\",u\"ाता\",u\"तीं\",u\"ाओं\",u\"ाएं\",u\"ुओं\",u\"ुएं\",u\"ुआं\"],\n",
        "    4: [u\"ाएगी\",u\"ाएगा\",u\"ाओगी\",u\"ाओगे\",u\"एंगी\",u\"ेंगी\",u\"एंगे\",u\"ेंगे\",u\"ूंगी\",u\"ूंगा\",u\"ातीं\",u\"नाओं\",u\"नाएं\",u\"ताओं\",u\"ताएं\",u\"ियाँ\",u\"ियों\",u\"ियां\"],\n",
        "    5: [u\"ाएंगी\",u\"ाएंगे\",u\"ाऊंगी\",u\"ाऊंगा\",u\"ाइयाँ\",u\"ाइयों\",u\"ाइयां\"],\n",
        "} #suffixes tin hindi language that change tense, gender, number but not the meaning\n",
        "\n",
        "stems=list()\n",
        "for word in words_list:\n",
        "    for L in range(1,5): \n",
        "        if len(word) >= L + 1:\n",
        "            for suffix in suffixes[L]:\n",
        "                if word.endswith(suffix):\n",
        "                    word=word[:-L] #stripping the suffix from the word\n",
        "    if word:\n",
        "        stems.append(word)\n",
        "\n",
        "filename='stems_generated2.txt'\n",
        "f=codecs.open(filename,\"w\",encoding='utf-8') #open in write mode\n",
        "for stem in stems:\n",
        "    f.write(str(stem))\n",
        "    f.write(u\"\\u0020\")\n",
        "f.close()"
      ],
      "metadata": {
        "id": "E_yRuvZSm5Q6"
      },
      "execution_count": null,
      "outputs": []
    }
  ]
}