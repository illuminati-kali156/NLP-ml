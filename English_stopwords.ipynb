{
  "cells": [
    {
      "cell_type": "code",
      "execution_count": null,
      "id": "03ecfb10",
      "metadata": {
        "id": "03ecfb10",
        "outputId": "c870f4be-03fe-4867-bbf3-d54dc99da1ce"
      },
      "outputs": [
        {
          "name": "stdout",
          "output_type": "stream",
          "text": [
            "Collecting nltk\n",
            "  Downloading nltk-3.7-py3-none-any.whl (1.5 MB)\n",
            "     ---------------------------------------- 1.5/1.5 MB 5.6 MB/s eta 0:00:00\n",
            "Collecting tqdm\n",
            "  Downloading tqdm-4.64.0-py2.py3-none-any.whl (78 kB)\n",
            "     ---------------------------------------- 78.4/78.4 kB 1.5 MB/s eta 0:00:00\n",
            "Collecting click\n",
            "  Downloading click-8.1.3-py3-none-any.whl (96 kB)\n",
            "     ---------------------------------------- 96.6/96.6 kB 2.8 MB/s eta 0:00:00\n",
            "Collecting joblib\n",
            "  Downloading joblib-1.1.0-py2.py3-none-any.whl (306 kB)\n",
            "     -------------------------------------- 307.0/307.0 kB 3.2 MB/s eta 0:00:00\n",
            "Collecting regex>=2021.8.3\n",
            "  Downloading regex-2022.7.25-cp310-cp310-win_amd64.whl (262 kB)\n",
            "     -------------------------------------- 262.7/262.7 kB 4.0 MB/s eta 0:00:00\n",
            "Requirement already satisfied: colorama in c:\\users\\csds-08\\appdata\\local\\programs\\python\\python310\\lib\\site-packages (from click->nltk) (0.4.5)\n",
            "Installing collected packages: tqdm, regex, joblib, click, nltk\n",
            "Successfully installed click-8.1.3 joblib-1.1.0 nltk-3.7 regex-2022.7.25 tqdm-4.64.0\n"
          ]
        }
      ],
      "source": [
        "!pip install nltk"
      ]
    },
    {
      "cell_type": "code",
      "execution_count": null,
      "id": "dd08c4a1",
      "metadata": {
        "id": "dd08c4a1"
      },
      "outputs": [],
      "source": [
        "import nltk as nltk"
      ]
    },
    {
      "cell_type": "code",
      "execution_count": null,
      "id": "5570d2ef",
      "metadata": {
        "id": "5570d2ef",
        "outputId": "c7eca2d2-c371-4a1f-ba15-278897e4ed9f"
      },
      "outputs": [
        {
          "name": "stderr",
          "output_type": "stream",
          "text": [
            "[nltk_data] Downloading package stopwords to\n",
            "[nltk_data]     C:\\Users\\csds-08\\AppData\\Roaming\\nltk_data...\n",
            "[nltk_data]   Package stopwords is already up-to-date!\n"
          ]
        },
        {
          "data": {
            "text/plain": [
              "True"
            ]
          },
          "execution_count": 19,
          "metadata": {},
          "output_type": "execute_result"
        }
      ],
      "source": [
        "nltk.download('stopwords')"
      ]
    },
    {
      "cell_type": "code",
      "execution_count": null,
      "id": "946d45ea",
      "metadata": {
        "id": "946d45ea"
      },
      "outputs": [],
      "source": [
        "from nltk.corpus import stopwords\n",
        "from nltk.tokenize import word_tokenize\n"
      ]
    },
    {
      "cell_type": "code",
      "execution_count": null,
      "id": "69f0e9d8",
      "metadata": {
        "id": "69f0e9d8"
      },
      "outputs": [],
      "source": [
        "example_sent = \"\"\"This is a sample sentence,\n",
        "                  showing off the stop words filtration.\"\"\""
      ]
    },
    {
      "cell_type": "code",
      "execution_count": null,
      "id": "011f18e6",
      "metadata": {
        "id": "011f18e6"
      },
      "outputs": [],
      "source": [
        "stop_words = set(stopwords.words('english'))"
      ]
    },
    {
      "cell_type": "code",
      "execution_count": null,
      "id": "bea3f947",
      "metadata": {
        "id": "bea3f947",
        "outputId": "3e99ab68-c4ae-4d14-f338-c989147ae7a0"
      },
      "outputs": [
        {
          "name": "stderr",
          "output_type": "stream",
          "text": [
            "[nltk_data] Downloading package punkt to\n",
            "[nltk_data]     C:\\Users\\csds-08\\AppData\\Roaming\\nltk_data...\n",
            "[nltk_data]   Package punkt is already up-to-date!\n"
          ]
        },
        {
          "data": {
            "text/plain": [
              "True"
            ]
          },
          "execution_count": 26,
          "metadata": {},
          "output_type": "execute_result"
        }
      ],
      "source": [
        "nltk.download('punkt')"
      ]
    },
    {
      "cell_type": "code",
      "execution_count": null,
      "id": "2977645e",
      "metadata": {
        "id": "2977645e"
      },
      "outputs": [],
      "source": [
        "word_tokens = word_tokenize(example_sent)"
      ]
    },
    {
      "cell_type": "code",
      "execution_count": null,
      "id": "aa1e34c0",
      "metadata": {
        "id": "aa1e34c0"
      },
      "outputs": [],
      "source": [
        "filtered_sentence = [w for w in word_tokens if not w.lower() in stop_words]"
      ]
    },
    {
      "cell_type": "code",
      "execution_count": null,
      "id": "da1acd03",
      "metadata": {
        "id": "da1acd03",
        "outputId": "69954796-9e73-4397-b265-86b6242feceb"
      },
      "outputs": [
        {
          "name": "stdout",
          "output_type": "stream",
          "text": [
            "['This', 'is', 'a', 'sample', 'sentence', ',', 'showing', 'off', 'the', 'stop', 'words', 'filtration', '.']\n",
            "['This', 'sample', 'sentence', ',', 'showing', 'stop', 'words', 'filtration', '.']\n"
          ]
        }
      ],
      "source": [
        "filtered_sentence = []\n",
        "for w in word_tokens:\n",
        "    if w not in stop_words:\n",
        "        filtered_sentence.append(w)\n",
        "  \n",
        "print(word_tokens)\n",
        "print(filtered_sentence)"
      ]
    },
    {
      "cell_type": "code",
      "execution_count": null,
      "id": "2b3d3af3",
      "metadata": {
        "id": "2b3d3af3"
      },
      "outputs": [],
      "source": []
    }
  ],
  "metadata": {
    "kernelspec": {
      "display_name": "Python 3 (ipykernel)",
      "language": "python",
      "name": "python3"
    },
    "language_info": {
      "codemirror_mode": {
        "name": "ipython",
        "version": 3
      },
      "file_extension": ".py",
      "mimetype": "text/x-python",
      "name": "python",
      "nbconvert_exporter": "python",
      "pygments_lexer": "ipython3",
      "version": "3.10.6"
    },
    "colab": {
      "provenance": []
    }
  },
  "nbformat": 4,
  "nbformat_minor": 5
}